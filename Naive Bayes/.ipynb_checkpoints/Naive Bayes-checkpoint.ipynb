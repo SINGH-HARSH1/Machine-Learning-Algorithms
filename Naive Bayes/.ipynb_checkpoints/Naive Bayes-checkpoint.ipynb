{
 "cells": [
  {
   "cell_type": "code",
   "execution_count": 1,
   "id": "1d61eb0b",
   "metadata": {},
   "outputs": [],
   "source": [
    "import pandas as pd\n",
    "import sklearn"
   ]
  },
  {
   "cell_type": "code",
   "execution_count": 2,
   "id": "57c9f766",
   "metadata": {},
   "outputs": [],
   "source": [
    "df = pd.read_table('https://raw.githubusercontent.com/sinanuozdemir/sfdat22/master/data/sms.tsv', sep='\\t', header=None, names=['label', 'msg'])"
   ]
  },
  {
   "cell_type": "code",
   "execution_count": 4,
   "id": "973212e9",
   "metadata": {},
   "outputs": [
    {
     "data": {
      "text/html": [
       "<div>\n",
       "<style scoped>\n",
       "    .dataframe tbody tr th:only-of-type {\n",
       "        vertical-align: middle;\n",
       "    }\n",
       "\n",
       "    .dataframe tbody tr th {\n",
       "        vertical-align: top;\n",
       "    }\n",
       "\n",
       "    .dataframe thead th {\n",
       "        text-align: right;\n",
       "    }\n",
       "</style>\n",
       "<table border=\"1\" class=\"dataframe\">\n",
       "  <thead>\n",
       "    <tr style=\"text-align: right;\">\n",
       "      <th></th>\n",
       "      <th>label</th>\n",
       "      <th>msg</th>\n",
       "    </tr>\n",
       "  </thead>\n",
       "  <tbody>\n",
       "    <tr>\n",
       "      <th>0</th>\n",
       "      <td>ham</td>\n",
       "      <td>Go until jurong point, crazy.. Available only ...</td>\n",
       "    </tr>\n",
       "    <tr>\n",
       "      <th>1</th>\n",
       "      <td>ham</td>\n",
       "      <td>Ok lar... Joking wif u oni...</td>\n",
       "    </tr>\n",
       "    <tr>\n",
       "      <th>2</th>\n",
       "      <td>spam</td>\n",
       "      <td>Free entry in 2 a wkly comp to win FA Cup fina...</td>\n",
       "    </tr>\n",
       "    <tr>\n",
       "      <th>3</th>\n",
       "      <td>ham</td>\n",
       "      <td>U dun say so early hor... U c already then say...</td>\n",
       "    </tr>\n",
       "    <tr>\n",
       "      <th>4</th>\n",
       "      <td>ham</td>\n",
       "      <td>Nah I don't think he goes to usf, he lives aro...</td>\n",
       "    </tr>\n",
       "  </tbody>\n",
       "</table>\n",
       "</div>"
      ],
      "text/plain": [
       "  label                                                msg\n",
       "0   ham  Go until jurong point, crazy.. Available only ...\n",
       "1   ham                      Ok lar... Joking wif u oni...\n",
       "2  spam  Free entry in 2 a wkly comp to win FA Cup fina...\n",
       "3   ham  U dun say so early hor... U c already then say...\n",
       "4   ham  Nah I don't think he goes to usf, he lives aro..."
      ]
     },
     "execution_count": 4,
     "metadata": {},
     "output_type": "execute_result"
    }
   ],
   "source": [
    "df.head()"
   ]
  },
  {
   "cell_type": "code",
   "execution_count": 11,
   "id": "4d42509e",
   "metadata": {},
   "outputs": [
    {
     "data": {
      "text/plain": [
       "<bound method DataFrame.info of      label                                                msg\n",
       "0      ham  Go until jurong point, crazy.. Available only ...\n",
       "1      ham                      Ok lar... Joking wif u oni...\n",
       "2     spam  Free entry in 2 a wkly comp to win FA Cup fina...\n",
       "3      ham  U dun say so early hor... U c already then say...\n",
       "4      ham  Nah I don't think he goes to usf, he lives aro...\n",
       "...    ...                                                ...\n",
       "5567  spam  This is the 2nd time we have tried 2 contact u...\n",
       "5568   ham               Will ü b going to esplanade fr home?\n",
       "5569   ham  Pity, * was in mood for that. So...any other s...\n",
       "5570   ham  The guy did some bitching but I acted like i'd...\n",
       "5571   ham                         Rofl. Its true to its name\n",
       "\n",
       "[5572 rows x 2 columns]>"
      ]
     },
     "execution_count": 11,
     "metadata": {},
     "output_type": "execute_result"
    }
   ],
   "source": [
    "df.info"
   ]
  },
  {
   "cell_type": "code",
   "execution_count": 5,
   "id": "c95af977",
   "metadata": {},
   "outputs": [],
   "source": [
    "# Checking Number of spam and ham Categories"
   ]
  },
  {
   "cell_type": "code",
   "execution_count": 6,
   "id": "7113bb2f",
   "metadata": {},
   "outputs": [
    {
     "data": {
      "text/plain": [
       "<AxesSubplot:>"
      ]
     },
     "execution_count": 6,
     "metadata": {},
     "output_type": "execute_result"
    },
    {
     "data": {
      "image/png": "[encoded data removed]",
      "text/plain": [
       "<Figure size 432x288 with 1 Axes>"
      ]
     },
     "metadata": {
      "needs_background": "light"
     },
     "output_type": "display_data"
    }
   ],
   "source": [
    "df.label.value_counts().plot(kind='bar')"
   ]
  },
  {
   "cell_type": "markdown",
   "id": "4f10ca62",
   "metadata": {},
   "source": [
    "We can clearly see here that there is a huge difference between the ham and spam counts. We have quite more the number of ham email than spam emails"
   ]
  },
  {
   "cell_type": "code",
   "execution_count": 8,
   "id": "3b4c0601",
   "metadata": {},
   "outputs": [
    {
     "data": {
      "text/plain": [
       "ham     4825\n",
       "spam     747\n",
       "Name: label, dtype: int64"
      ]
     },
     "execution_count": 8,
     "metadata": {},
     "output_type": "execute_result"
    }
   ],
   "source": [
    "# To get the exact value counts\n",
    "df.label.value_counts()"
   ]
  },
  {
   "cell_type": "code",
   "execution_count": 9,
   "id": "764a4219",
   "metadata": {},
   "outputs": [],
   "source": [
    "# Since Our Problem is of classification, It will be very useful to know our null accuracy rate, \n",
    "# which is the percentage chance of predicting a single row correctly if we keep guessing the most common ham."
   ]
  },
  {
   "cell_type": "code",
   "execution_count": 10,
   "id": "d1c7c9cf",
   "metadata": {},
   "outputs": [
    {
     "data": {
      "text/plain": [
       "ham     0.865937\n",
       "spam    0.134063\n",
       "Name: label, dtype: float64"
      ]
     },
     "execution_count": 10,
     "metadata": {},
     "output_type": "execute_result"
    }
   ],
   "source": [
    "# Checking the null accuracy rate\n",
    "df.label.value_counts() / df.shape[0]"
   ]
  },
  {
   "cell_type": "markdown",
   "id": "13f1f051",
   "metadata": {},
   "source": [
    "Therefore we can clearly see that if we blindly guessed ham we would be correct 87% of the time."
   ]
  },
  {
   "cell_type": "markdown",
   "id": "8bbf0900",
   "metadata": {},
   "source": [
    "## Naive Bayes Formula"
   ]
  },
  {
   "cell_type": "markdown",
   "id": "bb040749",
   "metadata": {},
   "source": [
    "If we have a set of classes, C and features xi, then we can use Bayes theorem to predict the probablity that a single row belongs to class C using the formula:\n",
    "\n",
    "<b>P(class C|{xi} = (P({xi}|class C) * P(class C)) / P({xi})</b>\n",
    "\n",
    "<ul>\n",
    "    <li><b>P(class C|{xi}):</b>The Posterior Probablity is the probability that the row belongs to class C given the feature {xi}</li>\n",
    "    <li><b>P({xi}|class C):</b>This is the likelihood that we would observe these features given that the row was in class C.</li>\n",
    "    <li><b>P(class C):</b>This is the Prior Probability. It is the probability that the data point belongs to class C before we see an y data. </li>\n",
    "    <li><b>P({xi}):</b>This is the Normalization Constant.</li>\n",
    "</ul>"
   ]
  },
  {
   "cell_type": "markdown",
   "id": "485dac9f",
   "metadata": {},
   "source": [
    "Let us have an email with three words \"Send Cash Now\". We will be using Naive Bayes to classify e-mail being either spam or ham.\n",
    "\n",
    "From Naive Bayes We get classes as follows:\n",
    "<ul>\n",
    "    <li>P(spam|Send Cash Now) = P(Send Cash Now|spam) * P(spam) / P(Send Cash Now) </li>\n",
    "    <li>P(ham|Send Cash Now) = P(Send Cash Now|ham) * P(ham) / P(Send Cash Now) </li>\n",
    "</ul>"
   ]
  },
  {
   "cell_type": "markdown",
   "id": "d8035fe8",
   "metadata": {},
   "source": [
    "Removing P(Send Cash Now) from the denominator of both equations as it is common.\n",
    "So we are concerned only with...\n",
    "<li> <b>P(Send Cash Now|spam) * P(spam) <b>VS</b> P(Send Cash Now|ham) * P(ham)</b> </li>"
   ]
  },
  {
   "cell_type": "markdown",
   "id": "17e1816c",
   "metadata": {},
   "source": [
    "The Numbers given in the equation are:\n",
    "<ul>\n",
    "    <li> <b>P(spam)</b> = 0.134063 </li>\n",
    "    <li> <b>P(ham)</b> = 0.865937 </li>\n",
    "    <li> <b>P(Send Cash Now | Spam)</b> </li>\n",
    "    <li> <b>P(Send Cash Now | ham)</b> </li>\n",
    "</ul>"
   ]
  },
  {
   "cell_type": "markdown",
   "id": "46983a76",
   "metadata": {},
   "source": [
    "To Calculate the two likelihoods all we have to do is to count the numbers of spam or ham messages that include the phrase \"Send Cash Now\" and divide by total number of spam or ham messages."
   ]
  },
  {
   "cell_type": "code",
   "execution_count": 12,
   "id": "57b045e4",
   "metadata": {},
   "outputs": [],
   "source": [
    "# Making all the rows to lowercase\n",
    "df.msg = df.msg.apply(lambda x: x.lower())"
   ]
  },
  {
   "cell_type": "code",
   "execution_count": 22,
   "id": "26aec4a2",
   "metadata": {},
   "outputs": [
    {
     "data": {
      "text/plain": [
       "(0, 2)"
      ]
     },
     "execution_count": 22,
     "metadata": {},
     "output_type": "execute_result"
    }
   ],
   "source": [
    "df[df.msg.str.contains('Send Cash Now')].shape"
   ]
  },
  {
   "cell_type": "markdown",
   "id": "3b8f7e4d",
   "metadata": {},
   "source": [
    "Therefore We don't have any rows with the Text Send Cash Now."
   ]
  },
  {
   "cell_type": "markdown",
   "id": "3c935e05",
   "metadata": {},
   "source": [
    "We can also not assume that we will have enough data in the world to have seen this exact phrase many times before as this phrase is very specific.\n",
    "\n",
    "instead we will make a <b>naive assumption </b> in out Bayes Theorem. \n",
    "<b>If we assume that the feature(words) are conditionally independent (meaning that no word affects the existance of another word)</b>\n",
    "\n",
    "Then we can rewrite the formula as:\n",
    "<ul>\n",
    "    <li><b>P(Send Cash Now|ham) = P(Send|ham) * P(Cash|ham) * P(now|ham)</b></li>\n",
    "    <li><b>P(Send Cash Now|spam) = P(Send|spam) * P(Cash|spam) * P(now|spam)</b></li>\n",
    "</ul>"
   ]
  },
  {
   "cell_type": "markdown",
   "id": "866fcf30",
   "metadata": {},
   "source": [
    "<ul>\n",
    "    <li><b>P(Send|spam)</b> = 0.096 </li>\n",
    "    <li><b>P(Cash|spam)</b> = 0.091 </li>\n",
    "    <li><b>P(Now|spam)</b> = 0.280 </li>\n",
    "</ul>\n",
    "<b>P(Send Cash Now|spam) * P(spam) = (0.096 * 0.091 * 0.280) * 0.134 = 0.00032</b>\n",
    "\n",
    "<ul>\n",
    "    <li><b>P(Send|ham)</b> = 0.03</li>\n",
    "    <li><b>P(Cash|ham)</b> = 0.003</li>\n",
    "    <li><b>P(Now|ham)</b> = 0.109</li>\n",
    "</ul>\n",
    "<b>P(Send Cash Now|spam) * P(spam) = (0.03 * 0.003 * 0.109) * 0.865 = 0.0000084</b>"
   ]
  },
  {
   "cell_type": "markdown",
   "id": "a1a280f3",
   "metadata": {},
   "source": [
    "Here, We can clearly see that P(Send Cash Now|spam) is greater than P(Send Cash Now|ham) so we can say that Msg Send Cash Now is a Spam."
   ]
  },
  {
   "cell_type": "markdown",
   "id": "d915e6a7",
   "metadata": {},
   "source": [
    "## Now Working With Actual data at hand"
   ]
  },
  {
   "cell_type": "code",
   "execution_count": 26,
   "id": "7d6370b4",
   "metadata": {},
   "outputs": [
    {
     "data": {
      "text/html": [
       "<div>\n",
       "<style scoped>\n",
       "    .dataframe tbody tr th:only-of-type {\n",
       "        vertical-align: middle;\n",
       "    }\n",
       "\n",
       "    .dataframe tbody tr th {\n",
       "        vertical-align: top;\n",
       "    }\n",
       "\n",
       "    .dataframe thead th {\n",
       "        text-align: right;\n",
       "    }\n",
       "</style>\n",
       "<table border=\"1\" class=\"dataframe\">\n",
       "  <thead>\n",
       "    <tr style=\"text-align: right;\">\n",
       "      <th></th>\n",
       "      <th>label</th>\n",
       "      <th>msg</th>\n",
       "    </tr>\n",
       "  </thead>\n",
       "  <tbody>\n",
       "    <tr>\n",
       "      <th>0</th>\n",
       "      <td>ham</td>\n",
       "      <td>go until jurong point, crazy.. available only ...</td>\n",
       "    </tr>\n",
       "    <tr>\n",
       "      <th>1</th>\n",
       "      <td>ham</td>\n",
       "      <td>ok lar... joking wif u oni...</td>\n",
       "    </tr>\n",
       "    <tr>\n",
       "      <th>2</th>\n",
       "      <td>spam</td>\n",
       "      <td>free entry in 2 a wkly comp to win fa cup fina...</td>\n",
       "    </tr>\n",
       "    <tr>\n",
       "      <th>3</th>\n",
       "      <td>ham</td>\n",
       "      <td>u dun say so early hor... u c already then say...</td>\n",
       "    </tr>\n",
       "    <tr>\n",
       "      <th>4</th>\n",
       "      <td>ham</td>\n",
       "      <td>nah i don't think he goes to usf, he lives aro...</td>\n",
       "    </tr>\n",
       "  </tbody>\n",
       "</table>\n",
       "</div>"
      ],
      "text/plain": [
       "  label                                                msg\n",
       "0   ham  go until jurong point, crazy.. available only ...\n",
       "1   ham                      ok lar... joking wif u oni...\n",
       "2  spam  free entry in 2 a wkly comp to win fa cup fina...\n",
       "3   ham  u dun say so early hor... u c already then say...\n",
       "4   ham  nah i don't think he goes to usf, he lives aro..."
      ]
     },
     "execution_count": 26,
     "metadata": {},
     "output_type": "execute_result"
    }
   ],
   "source": [
    "df.head()"
   ]
  },
  {
   "cell_type": "code",
   "execution_count": 28,
   "id": "8d670960",
   "metadata": {},
   "outputs": [],
   "source": [
    "# Splitting the Data in train and Test Sets\n",
    "from sklearn.model_selection import train_test_split\n",
    "X_train, X_test, y_train, y_test = train_test_split(df.msg, df.label, test_size=0.20, random_state=8)"
   ]
  },
  {
   "cell_type": "code",
   "execution_count": 30,
   "id": "c9e64a11",
   "metadata": {},
   "outputs": [],
   "source": [
    "# Using Count Vectorizer to transform text data to Numerical data\n",
    "from sklearn.feature_extraction.text import CountVectorizer\n",
    "vectorizer = CountVectorizer()\n",
    "train_data_matrix = vectorizer.fit_transform(X_train)"
   ]
  },
  {
   "cell_type": "code",
   "execution_count": 33,
   "id": "14442044",
   "metadata": {},
   "outputs": [],
   "source": [
    "# Creating the test data matrix\n",
    "test_data_matrix = vectorizer.transform(X_test)"
   ]
  },
  {
   "cell_type": "markdown",
   "id": "268bc6b0",
   "metadata": {},
   "source": [
    "### Model Building Using Naive Bayes "
   ]
  },
  {
   "cell_type": "code",
   "execution_count": 34,
   "id": "c4680a5c",
   "metadata": {},
   "outputs": [],
   "source": [
    "from sklearn.naive_bayes import MultinomialNB\n",
    "nb_classifier = MultinomialNB()\n",
    "nb_classifier.fit(train_data_matrix, y_train)\n",
    "predictions = nb_classifier.predict(test_data_matrix)"
   ]
  },
  {
   "cell_type": "code",
   "execution_count": 35,
   "id": "9546da04",
   "metadata": {},
   "outputs": [
    {
     "data": {
      "text/plain": [
       "array(['ham', 'ham', 'ham', ..., 'ham', 'ham', 'ham'], dtype='<U4')"
      ]
     },
     "execution_count": 35,
     "metadata": {},
     "output_type": "execute_result"
    }
   ],
   "source": [
    "predictions"
   ]
  },
  {
   "cell_type": "code",
   "execution_count": 36,
   "id": "d2423e4b",
   "metadata": {},
   "outputs": [],
   "source": [
    "# Checking the Metrics of our model. i.e comparing the predictions to true labels"
   ]
  },
  {
   "cell_type": "code",
   "execution_count": 38,
   "id": "58f0bc74",
   "metadata": {},
   "outputs": [
    {
     "name": "stdout",
     "output_type": "stream",
     "text": [
      "Accuracy Score:\n",
      "0.9856502242152466\n",
      "\n",
      "\n",
      "##################################################################################################################\n",
      "Confusion Matrix\n",
      "[[957   3]\n",
      " [ 13 142]]\n",
      "\n",
      "\n",
      "classification Report\n",
      "##################################################################################################################\n",
      "              precision    recall  f1-score   support\n",
      "\n",
      "         ham       0.99      1.00      0.99       960\n",
      "        spam       0.98      0.92      0.95       155\n",
      "\n",
      "    accuracy                           0.99      1115\n",
      "   macro avg       0.98      0.96      0.97      1115\n",
      "weighted avg       0.99      0.99      0.99      1115\n",
      "\n"
     ]
    }
   ],
   "source": [
    "from sklearn.metrics import accuracy_score, classification_report, confusion_matrix\n",
    "\n",
    "print(\"Accuracy Score:\")\n",
    "print(accuracy_score(y_test, predictions))\n",
    "print('\\n')\n",
    "print(\"##################################################################################################################\")\n",
    "print(\"Confusion Matrix\")\n",
    "print(confusion_matrix(y_test, predictions))\n",
    "print('\\n')\n",
    "print(\"classification Report\")\n",
    "print(\"##################################################################################################################\")\n",
    "print(classification_report(y_test, predictions))"
   ]
  },
  {
   "cell_type": "markdown",
   "id": "9f41a4ef",
   "metadata": {},
   "source": [
    "Here We can see that our accuracy is almost 99% and very good F1 Score with good precision and recall scores also"
   ]
  },
  {
   "cell_type": "code",
   "execution_count": 39,
   "id": "36392103",
   "metadata": {},
   "outputs": [
    {
     "data": {
      "text/plain": [
       "array(['ham', 'spam'], dtype='<U4')"
      ]
     },
     "execution_count": 39,
     "metadata": {},
     "output_type": "execute_result"
    }
   ],
   "source": [
    "nb_classifier.classes_"
   ]
  },
  {
   "cell_type": "markdown",
   "id": "60b941a2",
   "metadata": {},
   "source": [
    "From the Confusion matrix:\n",
    "<li> 957 are True Negatives i.e True Ham Predictions</li>\n",
    "<li> 142 are True Positives i.e True Spam Predictions</li>\n",
    "<li> 3 are false spam classifications</li>\n",
    "<li> 13 are false ham classifications</li>"
   ]
  },
  {
   "cell_type": "code",
   "execution_count": null,
   "id": "2ddb2c66",
   "metadata": {},
   "outputs": [],
   "source": []
  }
 ],
 "metadata": {
  "kernelspec": {
   "display_name": "Python 3 (ipykernel)",
   "language": "python",
   "name": "python3"
  },
  "language_info": {
   "codemirror_mode": {
    "name": "ipython",
    "version": 3
   },
   "file_extension": ".py",
   "mimetype": "text/x-python",
   "name": "python",
   "nbconvert_exporter": "python",
   "pygments_lexer": "ipython3",
   "version": "3.7.8"
  }
 },
 "nbformat": 4,
 "nbformat_minor": 5
}
